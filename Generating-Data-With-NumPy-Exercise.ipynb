{
 "cells": [
  {
   "cell_type": "markdown",
   "metadata": {},
   "source": [
    "# Generating Data with Numpy"
   ]
  },
  {
   "cell_type": "markdown",
   "metadata": {},
   "source": [
    "### 1. Run these next few cells:"
   ]
  },
  {
   "cell_type": "code",
   "execution_count": 1,
   "metadata": {},
   "outputs": [],
   "source": [
    "import numpy as np"
   ]
  },
  {
   "cell_type": "code",
   "execution_count": 2,
   "metadata": {},
   "outputs": [
    {
     "data": {
      "text/plain": [
       "array([10, 11, 12, 13, 14])"
      ]
     },
     "execution_count": 2,
     "metadata": {},
     "output_type": "execute_result"
    }
   ],
   "source": [
    "array_1D = np.array([10,11,12,13, 14])\n",
    "array_1D"
   ]
  },
  {
   "cell_type": "code",
   "execution_count": 3,
   "metadata": {},
   "outputs": [
    {
     "data": {
      "text/plain": [
       "array([[20, 30, 40, 50, 60],\n",
       "       [43, 54, 65, 76, 87],\n",
       "       [11, 22, 33, 44, 55]])"
      ]
     },
     "execution_count": 3,
     "metadata": {},
     "output_type": "execute_result"
    }
   ],
   "source": [
    "array_2D = np.array([[20,30,40,50,60], [43,54,65,76,87], [11,22,33,44,55]])\n",
    "array_2D"
   ]
  },
  {
   "cell_type": "code",
   "execution_count": 4,
   "metadata": {},
   "outputs": [
    {
     "data": {
      "text/plain": [
       "array([[[ 1,  2,  3,  4,  5],\n",
       "        [11, 21, 31, 41, 51]],\n",
       "\n",
       "       [[11, 12, 13, 14, 15],\n",
       "        [51, 52, 53, 54,  5]]])"
      ]
     },
     "execution_count": 4,
     "metadata": {},
     "output_type": "execute_result"
    }
   ],
   "source": [
    "array_3D = np.array([[[1,2,3,4,5], [11,21,31,41,51]], [[11,12,13,14,15], [51,52,53,54,5]]])\n",
    "array_3D"
   ]
  },
  {
   "cell_type": "markdown",
   "metadata": {},
   "source": [
    "### 2. Generate 4 arrays of size 10:\n",
    "    A) The first one should be \"empty\"\n",
    "    B) The second one should be full of 0s\n",
    "    C) The third one should be full of 1s\n",
    "    D) The last one should be full of 2s\n",
    "   (<b>Hint</b>: Try to use 4 different functions here.)"
   ]
  },
  {
   "cell_type": "code",
   "execution_count": 5,
   "metadata": {},
   "outputs": [
    {
     "data": {
      "text/plain": [
       "array([nan,  0.,  0.,  0.,  0.,  0.,  0.,  0.,  0.,  0.])"
      ]
     },
     "execution_count": 5,
     "metadata": {},
     "output_type": "execute_result"
    }
   ],
   "source": [
    "array_empty = np.empty(shape = 10)\n",
    "array_empty"
   ]
  },
  {
   "cell_type": "code",
   "execution_count": 6,
   "metadata": {},
   "outputs": [
    {
     "data": {
      "text/plain": [
       "array([0., 0., 0., 0., 0., 0., 0., 0., 0., 0.])"
      ]
     },
     "execution_count": 6,
     "metadata": {},
     "output_type": "execute_result"
    }
   ],
   "source": [
    "array_0s = np.zeros(shape = 10)\n",
    "array_0s"
   ]
  },
  {
   "cell_type": "code",
   "execution_count": 7,
   "metadata": {},
   "outputs": [
    {
     "data": {
      "text/plain": [
       "array([1., 1., 1., 1., 1., 1., 1., 1., 1., 1.])"
      ]
     },
     "execution_count": 7,
     "metadata": {},
     "output_type": "execute_result"
    }
   ],
   "source": [
    "array_1s = np.ones(shape = 10)\n",
    "array_1s"
   ]
  },
  {
   "cell_type": "code",
   "execution_count": 8,
   "metadata": {},
   "outputs": [
    {
     "data": {
      "text/plain": [
       "array([2, 2, 2, 2, 2, 2, 2, 2, 2, 2])"
      ]
     },
     "execution_count": 8,
     "metadata": {},
     "output_type": "execute_result"
    }
   ],
   "source": [
    "array_full_2 = np.full(shape = 10, fill_value = 2)\n",
    "array_full_2"
   ]
  },
  {
   "cell_type": "markdown",
   "metadata": {},
   "source": [
    "### 3. Generate 4 more arrays. This time, they should be 2 by 4 arrays. "
   ]
  },
  {
   "cell_type": "code",
   "execution_count": 9,
   "metadata": {},
   "outputs": [
    {
     "data": {
      "text/plain": [
       "array([[0.00000000e+000, 0.00000000e+000, 0.00000000e+000,\n",
       "        0.00000000e+000],\n",
       "       [0.00000000e+000, 3.73513628e-321, 4.66839074e-313,\n",
       "        0.00000000e+000]])"
      ]
     },
     "execution_count": 9,
     "metadata": {},
     "output_type": "execute_result"
    }
   ],
   "source": [
    "array_empty = np.empty(shape = (2, 4))\n",
    "array_empty"
   ]
  },
  {
   "cell_type": "code",
   "execution_count": 10,
   "metadata": {},
   "outputs": [
    {
     "data": {
      "text/plain": [
       "array([[0., 0., 0., 0.],\n",
       "       [0., 0., 0., 0.]])"
      ]
     },
     "execution_count": 10,
     "metadata": {},
     "output_type": "execute_result"
    }
   ],
   "source": [
    "array_0s = np.zeros(shape = (2, 4))\n",
    "array_0s"
   ]
  },
  {
   "cell_type": "code",
   "execution_count": 11,
   "metadata": {},
   "outputs": [
    {
     "data": {
      "text/plain": [
       "array([[1., 1., 1., 1.],\n",
       "       [1., 1., 1., 1.]])"
      ]
     },
     "execution_count": 11,
     "metadata": {},
     "output_type": "execute_result"
    }
   ],
   "source": [
    "array_1s = np.ones(shape = (2, 4))\n",
    "array_1s"
   ]
  },
  {
   "cell_type": "code",
   "execution_count": 12,
   "metadata": {},
   "outputs": [
    {
     "data": {
      "text/plain": [
       "array([[2, 2, 2, 2],\n",
       "       [2, 2, 2, 2]])"
      ]
     },
     "execution_count": 12,
     "metadata": {},
     "output_type": "execute_result"
    }
   ],
   "source": [
    "array_full_2 = np.full(shape = (2, 4), fill_value = 2)\n",
    "array_full_2"
   ]
  },
  {
   "cell_type": "markdown",
   "metadata": {},
   "source": [
    "### 4. Use the <i> _like </i> functions to generate 4 more arrays:\n",
    "    A) An empty array with the same shape as array_1D. \n",
    "    B) An 2-D array of 0s with the same shape as array_2D.\n",
    "    C) A 3-D array of 1s with the same shappe as array_3D.\n",
    "    D) A 3-D array of 2s with the same shape as array_3D. "
   ]
  },
  {
   "cell_type": "code",
   "execution_count": 13,
   "metadata": {},
   "outputs": [
    {
     "data": {
      "text/plain": [
       "array([1663489472,        672,          0,          0,          1])"
      ]
     },
     "execution_count": 13,
     "metadata": {},
     "output_type": "execute_result"
    }
   ],
   "source": [
    "array_empty_like = np.empty_like(array_1D)\n",
    "array_empty_like"
   ]
  },
  {
   "cell_type": "code",
   "execution_count": 15,
   "metadata": {},
   "outputs": [
    {
     "data": {
      "text/plain": [
       "array([[0, 0, 0, 0, 0],\n",
       "       [0, 0, 0, 0, 0],\n",
       "       [0, 0, 0, 0, 0]])"
      ]
     },
     "execution_count": 15,
     "metadata": {},
     "output_type": "execute_result"
    }
   ],
   "source": [
    "array_0s_like = np.zeros_like(array_2D)\n",
    "array_0s_like"
   ]
  },
  {
   "cell_type": "code",
   "execution_count": 16,
   "metadata": {},
   "outputs": [
    {
     "data": {
      "text/plain": [
       "array([[[1, 1, 1, 1, 1],\n",
       "        [1, 1, 1, 1, 1]],\n",
       "\n",
       "       [[1, 1, 1, 1, 1],\n",
       "        [1, 1, 1, 1, 1]]])"
      ]
     },
     "execution_count": 16,
     "metadata": {},
     "output_type": "execute_result"
    }
   ],
   "source": [
    "array_1s_like = np.ones_like(array_3D)\n",
    "array_1s_like"
   ]
  },
  {
   "cell_type": "code",
   "execution_count": 17,
   "metadata": {},
   "outputs": [
    {
     "data": {
      "text/plain": [
       "array([[[2, 2, 2, 2, 2],\n",
       "        [2, 2, 2, 2, 2]],\n",
       "\n",
       "       [[2, 2, 2, 2, 2],\n",
       "        [2, 2, 2, 2, 2]]])"
      ]
     },
     "execution_count": 17,
     "metadata": {},
     "output_type": "execute_result"
    }
   ],
   "source": [
    "array_full_2_like = np.full_like(array_3D, fill_value=2)\n",
    "array_full_2_like"
   ]
  },
  {
   "cell_type": "markdown",
   "metadata": {},
   "source": [
    "### 5. With the help of the np.arange() function, generate several sequences of numbers:\n",
    "    A) The integers from 0 to 50, excluding 50. \n",
    "    B) The integers from 1 to 50, including 50. \n",
    "    C) The integers from 25 to 50, including 50. \n",
    "    D) Every 5-th integers from 25 to 50, including 50. \n",
    "    E) Every 5-th integers from 25 to 50, including 50, represented as decimals of up to 32 bits. "
   ]
  },
  {
   "cell_type": "code",
   "execution_count": 18,
   "metadata": {},
   "outputs": [
    {
     "data": {
      "text/plain": [
       "array([ 0,  1,  2,  3,  4,  5,  6,  7,  8,  9, 10, 11, 12, 13, 14, 15, 16,\n",
       "       17, 18, 19, 20, 21, 22, 23, 24, 25, 26, 27, 28, 29, 30, 31, 32, 33,\n",
       "       34, 35, 36, 37, 38, 39, 40, 41, 42, 43, 44, 45, 46, 47, 48, 49])"
      ]
     },
     "execution_count": 18,
     "metadata": {},
     "output_type": "execute_result"
    }
   ],
   "source": [
    "array_rng_1 = np.arange(50)\n",
    "array_rng_1"
   ]
  },
  {
   "cell_type": "code",
   "execution_count": 19,
   "metadata": {},
   "outputs": [
    {
     "data": {
      "text/plain": [
       "array([ 1,  2,  3,  4,  5,  6,  7,  8,  9, 10, 11, 12, 13, 14, 15, 16, 17,\n",
       "       18, 19, 20, 21, 22, 23, 24, 25, 26, 27, 28, 29, 30, 31, 32, 33, 34,\n",
       "       35, 36, 37, 38, 39, 40, 41, 42, 43, 44, 45, 46, 47, 48, 49, 50])"
      ]
     },
     "execution_count": 19,
     "metadata": {},
     "output_type": "execute_result"
    }
   ],
   "source": [
    "array_rng_2 = np.arange(start = 1, stop = 51)\n",
    "array_rng_2"
   ]
  },
  {
   "cell_type": "code",
   "execution_count": 20,
   "metadata": {},
   "outputs": [
    {
     "data": {
      "text/plain": [
       "array([25, 26, 27, 28, 29, 30, 31, 32, 33, 34, 35, 36, 37, 38, 39, 40, 41,\n",
       "       42, 43, 44, 45, 46, 47, 48, 49, 50])"
      ]
     },
     "execution_count": 20,
     "metadata": {},
     "output_type": "execute_result"
    }
   ],
   "source": [
    "array_rng_3 = np.arange(start = 25, stop = 51)\n",
    "array_rng_3"
   ]
  },
  {
   "cell_type": "code",
   "execution_count": 21,
   "metadata": {},
   "outputs": [
    {
     "data": {
      "text/plain": [
       "array([25, 30, 35, 40, 45, 50])"
      ]
     },
     "execution_count": 21,
     "metadata": {},
     "output_type": "execute_result"
    }
   ],
   "source": [
    "array_rng_4 = np.arange(start = 25, stop = 51, step = 5)\n",
    "array_rng_4"
   ]
  },
  {
   "cell_type": "code",
   "execution_count": 22,
   "metadata": {},
   "outputs": [
    {
     "data": {
      "text/plain": [
       "array([25., 30., 35., 40., 45., 50.], dtype=float32)"
      ]
     },
     "execution_count": 22,
     "metadata": {},
     "output_type": "execute_result"
    }
   ],
   "source": [
    "array_rng_5 = np.arange(start = 25, stop = 51, step = 5, dtype = np.float32)\n",
    "array_rng_5"
   ]
  },
  {
   "cell_type": "markdown",
   "metadata": {},
   "source": [
    "### 6. Import the following functions from the numpy.random module:\n",
    "    A) Generator as \"gen\".\n",
    "    B) PCG64 as \"pcg\""
   ]
  },
  {
   "cell_type": "code",
   "execution_count": 24,
   "metadata": {},
   "outputs": [],
   "source": [
    "from numpy.random import Generator as gen"
   ]
  },
  {
   "cell_type": "code",
   "execution_count": 25,
   "metadata": {},
   "outputs": [],
   "source": [
    "from numpy.random import PCG64 as pcg"
   ]
  },
  {
   "cell_type": "markdown",
   "metadata": {},
   "source": [
    "### 7. Create a random generator object."
   ]
  },
  {
   "cell_type": "code",
   "execution_count": 28,
   "metadata": {},
   "outputs": [
    {
     "data": {
      "text/plain": [
       "1.1413861640151572"
      ]
     },
     "execution_count": 28,
     "metadata": {},
     "output_type": "execute_result"
    }
   ],
   "source": [
    "array_RCG = gen(pcg())\n",
    "array_RCG.normal()"
   ]
  },
  {
   "cell_type": "markdown",
   "metadata": {},
   "source": [
    "### 8. Using the .random() method, generate the following pseudo-random values:\n",
    "    A) A single probability of an event occuring.\n",
    "    B) An array of size 10 with the probabilities of 10 events. \n",
    "    C) A 5 by 10 2-D array with the probabilities of 50 events.  "
   ]
  },
  {
   "cell_type": "code",
   "execution_count": 29,
   "metadata": {},
   "outputs": [
    {
     "data": {
      "text/plain": [
       "0.2481547748617592"
      ]
     },
     "execution_count": 29,
     "metadata": {},
     "output_type": "execute_result"
    }
   ],
   "source": [
    "array_RCG = gen(pcg())\n",
    "array_RCG.random()"
   ]
  },
  {
   "cell_type": "code",
   "execution_count": 30,
   "metadata": {},
   "outputs": [
    {
     "data": {
      "text/plain": [
       "array([0.40615631, 0.49670016, 0.51613177, 0.7955647 , 0.04606394,\n",
       "       0.29354756, 0.08886584, 0.71651762, 0.37983641, 0.61403389])"
      ]
     },
     "execution_count": 30,
     "metadata": {},
     "output_type": "execute_result"
    }
   ],
   "source": [
    "array_RCG.random(10)"
   ]
  },
  {
   "cell_type": "code",
   "execution_count": 31,
   "metadata": {},
   "outputs": [
    {
     "data": {
      "text/plain": [
       "array([[0.8447231 , 0.92673034, 0.86194936, 0.92828648, 0.7847168 ,\n",
       "        0.54333072, 0.8761731 , 0.08501587, 0.9001527 , 0.72069496],\n",
       "       [0.70692124, 0.73006295, 0.47389515, 0.60734181, 0.2488662 ,\n",
       "        0.39318773, 0.84570533, 0.76748091, 0.62706108, 0.41187597],\n",
       "       [0.91506608, 0.72887818, 0.23777903, 0.12563152, 0.93190337,\n",
       "        0.1081571 , 0.99935987, 0.52655937, 0.7547145 , 0.61212668],\n",
       "       [0.64414836, 0.65982131, 0.73283701, 0.79533006, 0.7735905 ,\n",
       "        0.00225041, 0.16101708, 0.35518767, 0.97777246, 0.25122208],\n",
       "       [0.49951057, 0.84092672, 0.03408142, 0.4290526 , 0.41592277,\n",
       "        0.99332189, 0.97090225, 0.7443794 , 0.17716859, 0.66523598]])"
      ]
     },
     "execution_count": 31,
     "metadata": {},
     "output_type": "execute_result"
    }
   ],
   "source": [
    "array_RCG.random((5,10))"
   ]
  },
  {
   "cell_type": "markdown",
   "metadata": {},
   "source": [
    "### 9. Set the seed for the random generator to 123, and generate the same 3 sets of values:\n",
    "    A) A single probability of an event occuring.\n",
    "    B) An array of size 10 with the probabilities of 10 events. \n",
    "    C) A 5 by 10 2-D array with the probabilities of 50 events.  \n",
    "   <b> Note: </b> The seed only lasts for a single method before it gets reset. Hence, make sure you define the seed before calling the method every time. "
   ]
  },
  {
   "cell_type": "code",
   "execution_count": 32,
   "metadata": {},
   "outputs": [
    {
     "data": {
      "text/plain": [
       "0.6823518632481435"
      ]
     },
     "execution_count": 32,
     "metadata": {},
     "output_type": "execute_result"
    }
   ],
   "source": [
    "array_RCG = gen(pcg(seed=123))\n",
    "array_RCG.random()"
   ]
  },
  {
   "cell_type": "code",
   "execution_count": 33,
   "metadata": {},
   "outputs": [
    {
     "data": {
      "text/plain": [
       "array([0.68235186, 0.05382102, 0.22035987, 0.18437181, 0.1759059 ,\n",
       "       0.81209451, 0.923345  , 0.2765744 , 0.81975456, 0.88989269])"
      ]
     },
     "execution_count": 33,
     "metadata": {},
     "output_type": "execute_result"
    }
   ],
   "source": [
    "array_RCG = gen(pcg(seed=123))\n",
    "array_RCG.random(10)"
   ]
  },
  {
   "cell_type": "code",
   "execution_count": 34,
   "metadata": {},
   "outputs": [
    {
     "data": {
      "text/plain": [
       "array([[0.68235186, 0.05382102, 0.22035987, 0.18437181, 0.1759059 ,\n",
       "        0.81209451, 0.923345  , 0.2765744 , 0.81975456, 0.88989269],\n",
       "       [0.51297046, 0.2449646 , 0.8242416 , 0.21376296, 0.74146705,\n",
       "        0.6299402 , 0.92740726, 0.23190819, 0.79912513, 0.51816504],\n",
       "       [0.23155562, 0.16590399, 0.49778897, 0.58272464, 0.18433799,\n",
       "        0.01489492, 0.47113323, 0.72824333, 0.91860049, 0.62553401],\n",
       "       [0.91712257, 0.86469025, 0.21814287, 0.86612743, 0.73075194,\n",
       "        0.27786529, 0.79704355, 0.86522171, 0.2994379 , 0.52704208],\n",
       "       [0.07148681, 0.58323841, 0.2379064 , 0.76496365, 0.17363164,\n",
       "        0.31274226, 0.01447448, 0.03255192, 0.49670184, 0.46831253]])"
      ]
     },
     "execution_count": 34,
     "metadata": {},
     "output_type": "execute_result"
    }
   ],
   "source": [
    "array_RCG = gen(pcg(seed=123))\n",
    "array_RCG.random((5,10))"
   ]
  },
  {
   "cell_type": "markdown",
   "metadata": {},
   "source": [
    "### 10. Set the seed for the random generator to 123, and generate the following arrays of integers:\n",
    "    A) A single integer between 0 and 10.\n",
    "    B) A 1-D array of 10 integers between 0 and 100.\n",
    "    C) A 5 by 10 array of two-digit integers."
   ]
  },
  {
   "cell_type": "code",
   "execution_count": 39,
   "metadata": {},
   "outputs": [
    {
     "data": {
      "text/plain": [
       "0"
      ]
     },
     "execution_count": 39,
     "metadata": {},
     "output_type": "execute_result"
    }
   ],
   "source": [
    "array_RCG = gen(pcg(seed=123))\n",
    "array_RCG.integers(low = 0, high =10)"
   ]
  },
  {
   "cell_type": "code",
   "execution_count": 40,
   "metadata": {},
   "outputs": [
    {
     "data": {
      "text/plain": [
       "array([ 1, 68, 59,  5, 90, 22, 25, 18, 33, 17], dtype=int64)"
      ]
     },
     "execution_count": 40,
     "metadata": {},
     "output_type": "execute_result"
    }
   ],
   "source": [
    "array_RCG = gen(pcg(seed=123))\n",
    "array_RCG.integers(low = 0, high =100, size=10 )"
   ]
  },
  {
   "cell_type": "code",
   "execution_count": 41,
   "metadata": {},
   "outputs": [
    {
     "data": {
      "text/plain": [
       "array([[11, 71, 63, 14, 91, 29, 32, 26, 40, 25],\n",
       "       [41, 83, 50, 93, 50, 34, 80, 83, 87, 90],\n",
       "       [12, 56, 34, 32, 31, 84, 81, 29, 46, 76],\n",
       "       [23, 66, 49, 93, 76, 30, 85, 81, 29, 56],\n",
       "       [81, 30, 32, 24, 10, 54, 11, 62, 47, 26]], dtype=int64)"
      ]
     },
     "execution_count": 41,
     "metadata": {},
     "output_type": "execute_result"
    }
   ],
   "source": [
    "9array_RCG = gen(pcg(seed=123))\n",
    "array_RCG.integers(low = 10, high =100, size=(5,10))"
   ]
  },
  {
   "cell_type": "markdown",
   "metadata": {},
   "source": [
    "### 11. For this next bit, check the NumPy documentation and select 3 different probability distributions (e.g. normal, poisson, binomial, logistic) and generate the following:\n",
    "    A) One \"default\" value from one distribution (without specifying any non-mandatory arguments).\n",
    "    B) An array of 10 values from the second distribution. \n",
    "    C) A 5 by 10 2-D array with values from the third distribution."
   ]
  },
  {
   "cell_type": "code",
   "execution_count": 42,
   "metadata": {},
   "outputs": [
    {
     "data": {
      "text/plain": [
       "-0.9891213503478509"
      ]
     },
     "execution_count": 42,
     "metadata": {},
     "output_type": "execute_result"
    }
   ],
   "source": [
    "array_RCG = gen(pcg(seed=123))\n",
    "array_RCG.normal()"
   ]
  },
  {
   "cell_type": "code",
   "execution_count": 46,
   "metadata": {},
   "outputs": [
    {
     "data": {
      "text/plain": [
       "array([14,  9, 18, 12, 16, 15, 18, 15,  9, 12], dtype=int64)"
      ]
     },
     "execution_count": 46,
     "metadata": {},
     "output_type": "execute_result"
    }
   ],
   "source": [
    "array_RCG = gen(pcg(seed=123))\n",
    "array_RCG.poisson(size = 10, lam = 12)"
   ]
  },
  {
   "cell_type": "code",
   "execution_count": 47,
   "metadata": {},
   "outputs": [
    {
     "data": {
      "text/plain": [
       "array([[10.52920234,  3.26646465,  6.47285911,  6.02599166,  5.91132896,\n",
       "        11.92735516, 13.97737617,  7.07696429, 12.02937102, 13.17929096],\n",
       "       [ 9.10378693,  6.74869816, 12.09070668,  6.39521887, 11.10721517,\n",
       "        10.0639206 , 14.09505572,  6.60486456, 11.76167071,  9.14538428],\n",
       "       [ 6.60090389,  5.77012151,  8.98231163,  9.66793684,  6.02554178,\n",
       "         0.61654336,  8.76880874, 10.97145631, 13.84696415, 10.0262094 ],\n",
       "       [13.80775678, 12.70960953,  6.44695642, 12.73428735, 10.99688186,\n",
       "         7.08984946, 11.73583583, 12.71870936,  7.30004803,  9.21654798],\n",
       "       [ 3.87185664,  9.67216342,  6.67161587, 11.36017622,  5.87979077,\n",
       "         7.42533999,  0.5584237 ,  2.21634929,  8.97361435,  8.74616007]])"
      ]
     },
     "execution_count": 47,
     "metadata": {},
     "output_type": "execute_result"
    }
   ],
   "source": [
    "array_RCG = gen(pcg(seed=123))\n",
    "array_RCG.logistic(size = (5, 10), loc = 9, scale = 2.0)"
   ]
  }
 ],
 "metadata": {
  "kernelspec": {
   "display_name": "Python 3 (ipykernel)",
   "language": "python",
   "name": "python3"
  },
  "language_info": {
   "codemirror_mode": {
    "name": "ipython",
    "version": 3
   },
   "file_extension": ".py",
   "mimetype": "text/x-python",
   "name": "python",
   "nbconvert_exporter": "python",
   "pygments_lexer": "ipython3",
   "version": "3.9.12"
  }
 },
 "nbformat": 4,
 "nbformat_minor": 2
}
